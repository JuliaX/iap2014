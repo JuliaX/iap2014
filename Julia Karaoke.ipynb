{
 "metadata": {
  "language": "Julia",
  "name": ""
 },
 "nbformat": 3,
 "nbformat_minor": 0,
 "worksheets": [
  {
   "cells": [
    {
     "cell_type": "code",
     "collapsed": false,
     "input": [
      "using AudioIO\n",
      "import AudioIO.play\n",
      "\n",
      "type note{S<:Real, T<:Real}\n",
      "\tpitch::S\n",
      "\tduration::T\n",
      "\tsustained::Bool\n",
      "end"
     ],
     "language": "python",
     "metadata": {},
     "outputs": [
      {
       "ename": "LoadError",
       "evalue": "invalid redefinition of constant note\nwhile loading In[10], in expression starting on line 4",
       "output_type": "pyerr",
       "traceback": [
        "invalid redefinition of constant note\nwhile loading In[10], in expression starting on line 4"
       ]
      }
     ],
     "prompt_number": 10
    },
    {
     "cell_type": "code",
     "collapsed": false,
     "input": [
      "function play(A::note, samplingfreq::Real=44100, shape::Function=t->0.6sin(t)+0.2sin(2t)+.05*sin(8t))\n",
      "\ttimesamples=0:1/samplingfreq:(A.duration*(A.sustained ? 0.98 : 0.9))\n",
      "    play(Float64[shape(2\u03c0*A.pitch*t) for t in timesamples])\n",
      "\tsleep(A.duration)\n",
      "end"
     ],
     "language": "python",
     "metadata": {},
     "outputs": [
      {
       "metadata": {},
       "output_type": "pyout",
       "prompt_number": 17,
       "text": [
        "play (generic function with 9 methods)"
       ]
      }
     ],
     "prompt_number": 17
    },
    {
     "cell_type": "code",
     "collapsed": false,
     "input": [
      "play(note(440, 1, true))"
     ],
     "language": "python",
     "metadata": {},
     "outputs": [],
     "prompt_number": 18
    },
    {
     "cell_type": "code",
     "collapsed": false,
     "input": [
      "function parsevoice(melody::String; tempo=132, beatunit=4, lyrics=nothing)\n",
      "\tplay([0]) #Force AudioIO to initialize\n",
      "\tlyrics_syllables = lyrics==nothing? nothing : split(lyrics)\n",
      "\n",
      "    note_idx = 1\n",
      "    oldduration = 4\n",
      "\tfor line in split(melody, '\\n')\n",
      "\t\tpercent_idx = findfirst(line, '%') #Trim comment\n",
      "\t\tpercent_idx == 0 || (line = line[1:percent_idx-1])\n",
      "\t\tfor token in split(line)\n",
      "            pitch, duration, dotted, sustained =parsetoken(token)\n",
      "            duration==nothing && (duration = oldduration)\n",
      "            oldduration = duration\n",
      "            dotted && (duration *= 1.5)\n",
      "            if lyrics_syllables!=nothing && 1<=note_idx<=length(lyrics_syllables) #Print the lyrics, omitting hyphens\n",
      "                if lyrics_syllables[note_idx][end]=='-'\n",
      "                    print(lyrics_syllables[note_idx][1:end-1])\n",
      "                else\n",
      "                    print(lyrics_syllables[note_idx], ' ')\n",
      "                end\n",
      "            end\n",
      "\t\t\tplay(note(pitch, (beatunit/duration)*(60/tempo), sustained))\n",
      "\t\t\tnote_idx += 1\n",
      "\t\tend\n",
      "\t\tprintln()\n",
      "\tend\n",
      "end\n",
      "\n",
      "function parsetoken(token::String, Atuning::Real=220)\n",
      "\tstate = :findpitch\n",
      "\tpitch = 0.0\n",
      "    sustain = dotted = false\n",
      "\tlengthbuf = Char[]\n",
      "\tfor char in token\n",
      "\t\tif state == :findpitch\n",
      "\t\t\tscale_idx = findfirst('a':'g', char) + findfirst('A':'G', char)\n",
      "            if scale_idx!=0\n",
      "                const halfsteps = [12, 14, 3, 5, 7, 8, 10]\n",
      "                pitch = Atuning*2^(halfsteps[scale_idx]/12)\n",
      "                state = :findlength\n",
      "            elseif char=='r'\n",
      "                pitch, state = 0, :findlength\n",
      "            else\n",
      "                error(\"unknown pitch: $char\")\n",
      "            end\n",
      "\t\telseif state == :findlength\n",
      "\t\t\tif     char == '#' ; pitch *= 2^(1/12) #sharp\n",
      "\t\t\telseif char == 'b' ; pitch /= 2^(1/12) #flat\n",
      "\t\t\telseif char == '\\''; pitch *= 2        #higher octave\n",
      "            elseif char == ',' ; pitch /= 2        #lower octave\n",
      "            elseif char == '.' ; dotted = true     #dotted note\n",
      "            elseif char == '~' ; sustain = true    #tied note\n",
      "\t\t\telse\n",
      "\t\t\t\tpush!(lengthbuf, char)\n",
      "\t\t\t\t#Check for \"is\" and \"es\" suffixes for sharps and flats\n",
      "                if length(lengthbuf) >= 2\n",
      "\t\t\t\t\tif lengthbuf[end-1:end] == \"is\"\n",
      "\t\t\t\t\t\tpitch *= 2^(1/12)\n",
      "\t\t\t\t\t\tlengthbuf = lengthbuf[1:end-2]\n",
      "\t\t\t\t\telseif lengthbuf[end-1:end] == \"es\"\n",
      "\t\t\t\t\t\tpitch /= 2^(1/12)\n",
      "\t\t\t\t\t\tlengthbuf = lengthbuf[1:end-2]\n",
      "\t\t\t\t\tend\n",
      "\t\t\t\tend\n",
      "\t\t\tend\n",
      "\t\tend\n",
      "\tend\n",
      "\t#finalize length\n",
      "\tlengthstr = convert(String, lengthbuf)\n",
      "\tduration = isempty(lengthstr) ? nothing : parseint(lengthstr)\n",
      "    return (pitch, duration, sustain, dotted)\n",
      "end"
     ],
     "language": "python",
     "metadata": {},
     "outputs": [
      {
       "metadata": {},
       "output_type": "pyout",
       "prompt_number": 6,
       "text": [
        "parsetoken (generic function with 2 methods)"
       ]
      }
     ],
     "prompt_number": 6
    },
    {
     "cell_type": "code",
     "collapsed": false,
     "input": [
      "parsevoice(\"\"\"\n",
      "f# f# g a a g f# e d d e f# f#~ f#8 e e2\n",
      "f#4 f# g a a g f# e d d e f# e~ e8 d d2\n",
      "e4 e f# d e f#8~ g8 f#4 d e f#8~ g f#4 e d e a,\n",
      "f#2 f#4 g a a g f# e d d e f# e~ e8 d8 d2\"\"\",\n",
      "lyrics=\"\"\"\n",
      "Freu- de, sch\u00f6- ner G\u00f6t- ter- fun- ken, Toch- ter aus E- li- - si- um!\n",
      "Wir be- tre- ten feu- er- trun- ken, Himm- li- sche, dein Hei- - lig- thum!\n",
      "Dei- ne Zau- ber bin den - wie- der, was die - Mo- de streng ge- theilt,\n",
      "al- le mensch- en wer- den Br\u00fc- der wo dein sanf- ter Fl\u00fc- - gel weilt.\n",
      "\"\"\")"
     ],
     "language": "python",
     "metadata": {},
     "outputs": [
      {
       "output_type": "stream",
       "stream": "stdout",
       "text": [
        "Freu"
       ]
      },
      {
       "output_type": "stream",
       "stream": "stdout",
       "text": [
        "de, "
       ]
      },
      {
       "output_type": "stream",
       "stream": "stdout",
       "text": [
        "sch\u00f6"
       ]
      },
      {
       "output_type": "stream",
       "stream": "stdout",
       "text": [
        "ner "
       ]
      },
      {
       "output_type": "stream",
       "stream": "stdout",
       "text": [
        "G\u00f6t"
       ]
      },
      {
       "output_type": "stream",
       "stream": "stdout",
       "text": [
        "ter"
       ]
      },
      {
       "output_type": "stream",
       "stream": "stdout",
       "text": [
        "fun"
       ]
      },
      {
       "output_type": "stream",
       "stream": "stdout",
       "text": [
        "ken, "
       ]
      },
      {
       "output_type": "stream",
       "stream": "stdout",
       "text": [
        "Toch"
       ]
      },
      {
       "output_type": "stream",
       "stream": "stdout",
       "text": [
        "ter "
       ]
      },
      {
       "output_type": "stream",
       "stream": "stdout",
       "text": [
        "aus "
       ]
      },
      {
       "output_type": "stream",
       "stream": "stdout",
       "text": [
        "E"
       ]
      },
      {
       "output_type": "stream",
       "stream": "stdout",
       "text": [
        "li"
       ]
      },
      {
       "output_type": "stream",
       "stream": "stdout",
       "text": [
        "si"
       ]
      },
      {
       "output_type": "stream",
       "stream": "stdout",
       "text": [
        "um! "
       ]
      },
      {
       "output_type": "stream",
       "stream": "stdout",
       "text": [
        "\n",
        "Wir"
       ]
      },
      {
       "output_type": "stream",
       "stream": "stdout",
       "text": [
        " "
       ]
      },
      {
       "output_type": "stream",
       "stream": "stdout",
       "text": [
        "be"
       ]
      },
      {
       "output_type": "stream",
       "stream": "stdout",
       "text": [
        "tre"
       ]
      },
      {
       "output_type": "stream",
       "stream": "stdout",
       "text": [
        "ten "
       ]
      },
      {
       "output_type": "stream",
       "stream": "stdout",
       "text": [
        "feu"
       ]
      },
      {
       "output_type": "stream",
       "stream": "stdout",
       "text": [
        "er"
       ]
      },
      {
       "output_type": "stream",
       "stream": "stdout",
       "text": [
        "trun"
       ]
      },
      {
       "output_type": "stream",
       "stream": "stdout",
       "text": [
        "ken, "
       ]
      },
      {
       "output_type": "stream",
       "stream": "stdout",
       "text": [
        "Himm"
       ]
      },
      {
       "output_type": "stream",
       "stream": "stdout",
       "text": [
        "li"
       ]
      },
      {
       "output_type": "stream",
       "stream": "stdout",
       "text": [
        "sche, "
       ]
      },
      {
       "output_type": "stream",
       "stream": "stdout",
       "text": [
        "dein "
       ]
      },
      {
       "output_type": "stream",
       "stream": "stdout",
       "text": [
        "Hei"
       ]
      },
      {
       "output_type": "stream",
       "stream": "stdout",
       "text": [
        "lig"
       ]
      },
      {
       "output_type": "stream",
       "stream": "stdout",
       "text": [
        "thum! "
       ]
      },
      {
       "ename": "LoadError",
       "evalue": "interrupt\nwhile loading In[7], in expression starting on line 1",
       "output_type": "pyerr",
       "traceback": [
        "interrupt\nwhile loading In[7], in expression starting on line 1",
        " in play at In[1]:13",
        " in play at In[1]:11",
        " in parsevoice at In[6]:22"
       ]
      }
     ],
     "prompt_number": 7
    },
    {
     "cell_type": "code",
     "collapsed": false,
     "input": [
      "parsevoice(\"\"\"\n",
      "c''8 b' g'4 c''8 b' g'4 g'8 f' e' f'4 e'8 d' e'4 g' g'8~ g'2\n",
      "c4 b,8 g, c c b, g, r\n",
      "c''8 b' g'4  c''8 b' g'4 g'8 f' e' f'4 e'8 d' e'4 g' g'8~ g'2\n",
      "c4 b,8 g, c c b, g, r\n",
      "a4, a, e8 e f e r8 c c a, c4 c r\n",
      "\"\"\")"
     ],
     "language": "python",
     "metadata": {},
     "outputs": [
      {
       "output_type": "stream",
       "stream": "stdout",
       "text": [
        "\n"
       ]
      },
      {
       "output_type": "stream",
       "stream": "stdout",
       "text": [
        "\n"
       ]
      },
      {
       "output_type": "stream",
       "stream": "stdout",
       "text": [
        "\n"
       ]
      },
      {
       "output_type": "stream",
       "stream": "stdout",
       "text": [
        "\n"
       ]
      },
      {
       "output_type": "stream",
       "stream": "stdout",
       "text": [
        "\n",
        "\n"
       ]
      }
     ],
     "prompt_number": 9
    },
    {
     "cell_type": "code",
     "collapsed": false,
     "input": [
      "soprano = @async parsevoice(\"\"\"\n",
      "f'#. f'#. g'. a'. a'. g'. f'#. e'~ e'8 d.'4 d.' e.' f#'. f#'.~ f#' e'8 e'4~ e'2\n",
      "\"\"\", lyrics=\"Freu- de, sch\u00f6- ner G\u00f6t- ter- fun- ken, Toch- ter aus E- li- - si- um!\"\n",
      ")\n",
      "alto = @async parsevoice(\"\"\"\n",
      "a. a. a. a.  a.  a. a. a~ g8 f#.4 a.  a.  a. a.~ a a8 a4~ a2\n",
      "\"\"\")\n",
      "tenor = @async parsevoice(\"\"\"\n",
      "d. d. e. f#. f#. e. d. d~ e8 f#.4 f#. a,. d. d.~ d c#8 c#4 c#2\n",
      "\"\"\")\n",
      "bass = @async parsevoice(\"\"\"\n",
      "d. d. d. d. a,. a,. a,. b,~ c8 d. a., a., a., a., a, a8, a,4 a,2\n",
      "\"\"\")\n",
      "wait(soprano)\n",
      "wait(alto)\n",
      "wait(tenor)\n",
      "wait(bass)\n",
      "\n",
      "soprano = @async parsevoice(\"\"\"\n",
      "f'#.4 f'#. g'. a'. a'. g'. f'#. e'. d'. d'. e'. f'#. e'.~ e' d'8 d'4~ d'2\n",
      "\"\"\", lyrics=\"Wir be- tre- ten feu- er- trun- ken, Himm- li- sche, dein Hei- - lig- thum!\")\n",
      "alto = @async parsevoice(\"\"\"\n",
      "a.4 a. b. c'. c'. b. a. g. f#. f#. g. f#. g.~ g4 f#8 f#~ f#2 \n",
      "\"\"\")\n",
      "tenor = @async parsevoice(\"\"\"\n",
      "d.4 d. d. d. d. d. d. d. d. d. c#. d. c#.~ c# d8 d d2  \n",
      "\"\"\")\n",
      "bass = @async parsevoice(\"\"\"\n",
      "d.4 d. d. d. a,. a,. a,. a., a., a., a., a., a.,~ a, a,8 d, d,2\n",
      "\"\"\")\n",
      "\n",
      "wait(soprano)\n",
      "wait(alto)\n",
      "wait(tenor)\n",
      "wait(bass)"
     ],
     "language": "python",
     "metadata": {},
     "outputs": [
      {
       "output_type": "stream",
       "stream": "stdout",
       "text": [
        "Freu"
       ]
      },
      {
       "output_type": "stream",
       "stream": "stdout",
       "text": [
        "de, "
       ]
      },
      {
       "output_type": "stream",
       "stream": "stdout",
       "text": [
        "sch\u00f6"
       ]
      },
      {
       "output_type": "stream",
       "stream": "stdout",
       "text": [
        "ner "
       ]
      },
      {
       "output_type": "stream",
       "stream": "stdout",
       "text": [
        "G\u00f6t"
       ]
      },
      {
       "output_type": "stream",
       "stream": "stdout",
       "text": [
        "ter"
       ]
      },
      {
       "output_type": "stream",
       "stream": "stdout",
       "text": [
        "fun"
       ]
      },
      {
       "output_type": "stream",
       "stream": "stdout",
       "text": [
        "ken, "
       ]
      },
      {
       "output_type": "stream",
       "stream": "stdout",
       "text": [
        "Toch"
       ]
      },
      {
       "output_type": "stream",
       "stream": "stdout",
       "text": [
        "ter "
       ]
      },
      {
       "output_type": "stream",
       "stream": "stdout",
       "text": [
        "aus "
       ]
      },
      {
       "output_type": "stream",
       "stream": "stdout",
       "text": [
        "E"
       ]
      },
      {
       "output_type": "stream",
       "stream": "stdout",
       "text": [
        "li"
       ]
      },
      {
       "output_type": "stream",
       "stream": "stdout",
       "text": [
        "si"
       ]
      },
      {
       "output_type": "stream",
       "stream": "stdout",
       "text": [
        "um! "
       ]
      },
      {
       "output_type": "stream",
       "stream": "stdout",
       "text": [
        "\n",
        "\n"
       ]
      },
      {
       "output_type": "stream",
       "stream": "stdout",
       "text": [
        "\n",
        "\n"
       ]
      },
      {
       "output_type": "stream",
       "stream": "stdout",
       "text": [
        "\n",
        "\n"
       ]
      },
      {
       "output_type": "stream",
       "stream": "stdout",
       "text": [
        "\n",
        "\n",
        "Wir "
       ]
      },
      {
       "output_type": "stream",
       "stream": "stdout",
       "text": [
        "be"
       ]
      },
      {
       "output_type": "stream",
       "stream": "stdout",
       "text": [
        "tre"
       ]
      },
      {
       "output_type": "stream",
       "stream": "stdout",
       "text": [
        "ten "
       ]
      },
      {
       "output_type": "stream",
       "stream": "stdout",
       "text": [
        "feu"
       ]
      },
      {
       "output_type": "stream",
       "stream": "stdout",
       "text": [
        "er"
       ]
      },
      {
       "output_type": "stream",
       "stream": "stdout",
       "text": [
        "trun"
       ]
      },
      {
       "output_type": "stream",
       "stream": "stdout",
       "text": [
        "ken, "
       ]
      },
      {
       "output_type": "stream",
       "stream": "stdout",
       "text": [
        "Himm"
       ]
      },
      {
       "output_type": "stream",
       "stream": "stdout",
       "text": [
        "li"
       ]
      },
      {
       "output_type": "stream",
       "stream": "stdout",
       "text": [
        "sche, "
       ]
      },
      {
       "output_type": "stream",
       "stream": "stdout",
       "text": [
        "dein "
       ]
      },
      {
       "output_type": "stream",
       "stream": "stdout",
       "text": [
        "Hei"
       ]
      },
      {
       "output_type": "stream",
       "stream": "stdout",
       "text": [
        "lig"
       ]
      },
      {
       "output_type": "stream",
       "stream": "stdout",
       "text": [
        "thum! "
       ]
      },
      {
       "output_type": "stream",
       "stream": "stdout",
       "text": [
        "\n",
        "\n"
       ]
      },
      {
       "output_type": "stream",
       "stream": "stdout",
       "text": [
        "\n",
        "\n"
       ]
      },
      {
       "output_type": "stream",
       "stream": "stdout",
       "text": [
        "\n",
        "\n"
       ]
      },
      {
       "output_type": "stream",
       "stream": "stdout",
       "text": [
        "\n",
        "\n"
       ]
      }
     ],
     "prompt_number": 19
    },
    {
     "cell_type": "code",
     "collapsed": false,
     "input": [
      "3"
     ],
     "language": "python",
     "metadata": {},
     "outputs": []
    }
   ],
   "metadata": {}
  }
 ]
}