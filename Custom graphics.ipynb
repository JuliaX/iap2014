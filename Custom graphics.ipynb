{
 "metadata": {
  "language": "Julia",
  "name": ""
 },
 "nbformat": 3,
 "nbformat_minor": 0,
 "worksheets": [
  {
   "cells": [
    {
     "cell_type": "markdown",
     "metadata": {},
     "source": [
      "## Colors"
     ]
    },
    {
     "cell_type": "code",
     "collapsed": false,
     "input": [
      "using Color"
     ],
     "language": "python",
     "metadata": {},
     "outputs": [],
     "prompt_number": 1
    },
    {
     "cell_type": "code",
     "collapsed": false,
     "input": [
      "HSV(160, 0.8, 0.5)"
     ],
     "language": "python",
     "metadata": {},
     "outputs": [
      {
       "metadata": {},
       "output_type": "pyout",
       "prompt_number": 4,
       "svg": [
        "<?xml version\"1.0\" encoding=\"UTF-8\"?>\n",
        "<!DOCTYPE svg PUBLIC \"-//W3C//DTD SVG 1.1//EN\"\n",
        " \"http://www.w3.org/Graphics/SVG/1.1/DTD/svg11.dtd\">\n",
        "<svg xmlns=\"http://www.w3.org/2000/svg\" version=\"1.1\"\n",
        "     width=\"25mm\" height=\"25mm\" viewBox=\"0 0 1 1\">\n",
        "     <rect width=\"1\" height=\"1\"\n",
        "           fill=\"#19805D\" stroke=\"none\"/>\n",
        "</svg>\n"
       ],
       "text": [
        "HSV(160.0,0.8,0.5)"
       ]
      }
     ],
     "prompt_number": 4
    },
    {
     "cell_type": "code",
     "collapsed": false,
     "input": [
      "[ HSV(h, 1, 1) for h in 0:20:340 ]"
     ],
     "language": "python",
     "metadata": {},
     "outputs": [
      {
       "metadata": {},
       "output_type": "pyout",
       "prompt_number": 8,
       "svg": [
        "<?xml version=\"1.0\" encoding=\"UTF-8\"?>\n",
        "<!DOCTYPE svg PUBLIC \"-//W3C//DTD SVG 1.1//EN\"\n",
        " \"http://www.w3.org/Graphics/SVG/1.1/DTD/svg11.dtd\">\n",
        "<svg xmlns=\"http://www.w3.org/2000/svg\" version=\"1.1\"\n",
        "     width=\"270mm\" height=\"25mm\"\n",
        "     shape-rendering=\"crispEdges\">\n",
        "<rect x=\"0mm\" width=\"14mm\" height=\"100%\"\n",
        "      fill=\"#FF0000\" stroke=\"none\" />\n",
        "<rect x=\"15mm\" width=\"14mm\" height=\"100%\"\n",
        "      fill=\"#FF5500\" stroke=\"none\" />\n",
        "<rect x=\"30mm\" width=\"14mm\" height=\"100%\"\n",
        "      fill=\"#FFAA00\" stroke=\"none\" />\n",
        "<rect x=\"45mm\" width=\"14mm\" height=\"100%\"\n",
        "      fill=\"#FFFF00\" stroke=\"none\" />\n",
        "<rect x=\"60mm\" width=\"14mm\" height=\"100%\"\n",
        "      fill=\"#AAFF00\" stroke=\"none\" />\n",
        "<rect x=\"75mm\" width=\"14mm\" height=\"100%\"\n",
        "      fill=\"#55FF00\" stroke=\"none\" />\n",
        "<rect x=\"90mm\" width=\"14mm\" height=\"100%\"\n",
        "      fill=\"#00FF00\" stroke=\"none\" />\n",
        "<rect x=\"105mm\" width=\"14mm\" height=\"100%\"\n",
        "      fill=\"#00FF55\" stroke=\"none\" />\n",
        "<rect x=\"120mm\" width=\"14mm\" height=\"100%\"\n",
        "      fill=\"#00FFAA\" stroke=\"none\" />\n",
        "<rect x=\"135mm\" width=\"14mm\" height=\"100%\"\n",
        "      fill=\"#00FFFF\" stroke=\"none\" />\n",
        "<rect x=\"150mm\" width=\"14mm\" height=\"100%\"\n",
        "      fill=\"#00AAFF\" stroke=\"none\" />\n",
        "<rect x=\"165mm\" width=\"14mm\" height=\"100%\"\n",
        "      fill=\"#0055FF\" stroke=\"none\" />\n",
        "<rect x=\"180mm\" width=\"14mm\" height=\"100%\"\n",
        "      fill=\"#0000FF\" stroke=\"none\" />\n",
        "<rect x=\"195mm\" width=\"14mm\" height=\"100%\"\n",
        "      fill=\"#5500FF\" stroke=\"none\" />\n",
        "<rect x=\"210mm\" width=\"14mm\" height=\"100%\"\n",
        "      fill=\"#AA00FF\" stroke=\"none\" />\n",
        "<rect x=\"225mm\" width=\"14mm\" height=\"100%\"\n",
        "      fill=\"#FF00FF\" stroke=\"none\" />\n",
        "<rect x=\"240mm\" width=\"14mm\" height=\"100%\"\n",
        "      fill=\"#FF00AA\" stroke=\"none\" />\n",
        "<rect x=\"255mm\" width=\"14mm\" height=\"100%\"\n",
        "      fill=\"#FF0055\" stroke=\"none\" />\n",
        "</svg>"
       ],
       "text": [
        "18-element Array{HSV,1}:\n",
        " HSV(0.0,1.0,1.0)  \n",
        " HSV(20.0,1.0,1.0) \n",
        " HSV(40.0,1.0,1.0) \n",
        " HSV(60.0,1.0,1.0) \n",
        " HSV(80.0,1.0,1.0) \n",
        " HSV(100.0,1.0,1.0)\n",
        " HSV(120.0,1.0,1.0)\n",
        " HSV(140.0,1.0,1.0)\n",
        " HSV(160.0,1.0,1.0)\n",
        " HSV(180.0,1.0,1.0)\n",
        " HSV(200.0,1.0,1.0)\n",
        " HSV(220.0,1.0,1.0)\n",
        " HSV(240.0,1.0,1.0)\n",
        " HSV(260.0,1.0,1.0)\n",
        " HSV(280.0,1.0,1.0)\n",
        " HSV(300.0,1.0,1.0)\n",
        " HSV(320.0,1.0,1.0)\n",
        " HSV(340.0,1.0,1.0)"
       ]
      }
     ],
     "prompt_number": 8
    },
    {
     "cell_type": "code",
     "collapsed": false,
     "input": [
      "[ HSV(0, s, 1) for s in 0:.08:1 ]"
     ],
     "language": "python",
     "metadata": {},
     "outputs": [
      {
       "metadata": {},
       "output_type": "pyout",
       "prompt_number": 7,
       "svg": [
        "<?xml version=\"1.0\" encoding=\"UTF-8\"?>\n",
        "<!DOCTYPE svg PUBLIC \"-//W3C//DTD SVG 1.1//EN\"\n",
        " \"http://www.w3.org/Graphics/SVG/1.1/DTD/svg11.dtd\">\n",
        "<svg xmlns=\"http://www.w3.org/2000/svg\" version=\"1.1\"\n",
        "     width=\"195mm\" height=\"25mm\"\n",
        "     shape-rendering=\"crispEdges\">\n",
        "<rect x=\"0mm\" width=\"14mm\" height=\"100%\"\n",
        "      fill=\"#FFFFFF\" stroke=\"none\" />\n",
        "<rect x=\"15mm\" width=\"14mm\" height=\"100%\"\n",
        "      fill=\"#FFEBEB\" stroke=\"none\" />\n",
        "<rect x=\"30mm\" width=\"14mm\" height=\"100%\"\n",
        "      fill=\"#FFD6D6\" stroke=\"none\" />\n",
        "<rect x=\"45mm\" width=\"14mm\" height=\"100%\"\n",
        "      fill=\"#FFC2C2\" stroke=\"none\" />\n",
        "<rect x=\"60mm\" width=\"14mm\" height=\"100%\"\n",
        "      fill=\"#FFADAD\" stroke=\"none\" />\n",
        "<rect x=\"75mm\" width=\"14mm\" height=\"100%\"\n",
        "      fill=\"#FF9999\" stroke=\"none\" />\n",
        "<rect x=\"90mm\" width=\"14mm\" height=\"100%\"\n",
        "      fill=\"#FF8585\" stroke=\"none\" />\n",
        "<rect x=\"105mm\" width=\"14mm\" height=\"100%\"\n",
        "      fill=\"#FF7070\" stroke=\"none\" />\n",
        "<rect x=\"120mm\" width=\"14mm\" height=\"100%\"\n",
        "      fill=\"#FF5C5C\" stroke=\"none\" />\n",
        "<rect x=\"135mm\" width=\"14mm\" height=\"100%\"\n",
        "      fill=\"#FF4747\" stroke=\"none\" />\n",
        "<rect x=\"150mm\" width=\"14mm\" height=\"100%\"\n",
        "      fill=\"#FF3333\" stroke=\"none\" />\n",
        "<rect x=\"165mm\" width=\"14mm\" height=\"100%\"\n",
        "      fill=\"#FF1F1F\" stroke=\"none\" />\n",
        "<rect x=\"180mm\" width=\"14mm\" height=\"100%\"\n",
        "      fill=\"#FF0A0A\" stroke=\"none\" />\n",
        "</svg>"
       ],
       "text": [
        "13-element Array{HSV,1}:\n",
        " HSV(0.0,0.0,1.0) \n",
        " HSV(0.0,0.08,1.0)\n",
        " HSV(0.0,0.16,1.0)\n",
        " HSV(0.0,0.24,1.0)\n",
        " HSV(0.0,0.32,1.0)\n",
        " HSV(0.0,0.4,1.0) \n",
        " HSV(0.0,0.48,1.0)\n",
        " HSV(0.0,0.56,1.0)\n",
        " HSV(0.0,0.64,1.0)\n",
        " HSV(0.0,0.72,1.0)\n",
        " HSV(0.0,0.8,1.0) \n",
        " HSV(0.0,0.88,1.0)\n",
        " HSV(0.0,0.96,1.0)"
       ]
      }
     ],
     "prompt_number": 7
    },
    {
     "cell_type": "code",
     "collapsed": false,
     "input": [
      "[ HSV(0, 1, v) for v in 0:.08:1 ]"
     ],
     "language": "python",
     "metadata": {},
     "outputs": [
      {
       "metadata": {},
       "output_type": "pyout",
       "prompt_number": 9,
       "svg": [
        "<?xml version=\"1.0\" encoding=\"UTF-8\"?>\n",
        "<!DOCTYPE svg PUBLIC \"-//W3C//DTD SVG 1.1//EN\"\n",
        " \"http://www.w3.org/Graphics/SVG/1.1/DTD/svg11.dtd\">\n",
        "<svg xmlns=\"http://www.w3.org/2000/svg\" version=\"1.1\"\n",
        "     width=\"195mm\" height=\"25mm\"\n",
        "     shape-rendering=\"crispEdges\">\n",
        "<rect x=\"0mm\" width=\"14mm\" height=\"100%\"\n",
        "      fill=\"#000000\" stroke=\"none\" />\n",
        "<rect x=\"15mm\" width=\"14mm\" height=\"100%\"\n",
        "      fill=\"#140000\" stroke=\"none\" />\n",
        "<rect x=\"30mm\" width=\"14mm\" height=\"100%\"\n",
        "      fill=\"#290000\" stroke=\"none\" />\n",
        "<rect x=\"45mm\" width=\"14mm\" height=\"100%\"\n",
        "      fill=\"#3D0000\" stroke=\"none\" />\n",
        "<rect x=\"60mm\" width=\"14mm\" height=\"100%\"\n",
        "      fill=\"#520000\" stroke=\"none\" />\n",
        "<rect x=\"75mm\" width=\"14mm\" height=\"100%\"\n",
        "      fill=\"#660000\" stroke=\"none\" />\n",
        "<rect x=\"90mm\" width=\"14mm\" height=\"100%\"\n",
        "      fill=\"#7A0000\" stroke=\"none\" />\n",
        "<rect x=\"105mm\" width=\"14mm\" height=\"100%\"\n",
        "      fill=\"#8F0000\" stroke=\"none\" />\n",
        "<rect x=\"120mm\" width=\"14mm\" height=\"100%\"\n",
        "      fill=\"#A30000\" stroke=\"none\" />\n",
        "<rect x=\"135mm\" width=\"14mm\" height=\"100%\"\n",
        "      fill=\"#B80000\" stroke=\"none\" />\n",
        "<rect x=\"150mm\" width=\"14mm\" height=\"100%\"\n",
        "      fill=\"#CC0000\" stroke=\"none\" />\n",
        "<rect x=\"165mm\" width=\"14mm\" height=\"100%\"\n",
        "      fill=\"#E00000\" stroke=\"none\" />\n",
        "<rect x=\"180mm\" width=\"14mm\" height=\"100%\"\n",
        "      fill=\"#F50000\" stroke=\"none\" />\n",
        "</svg>"
       ],
       "text": [
        "13-element Array{HSV,1}:\n",
        " HSV(0.0,1.0,0.0) \n",
        " HSV(0.0,1.0,0.08)\n",
        " HSV(0.0,1.0,0.16)\n",
        " HSV(0.0,1.0,0.24)\n",
        " HSV(0.0,1.0,0.32)\n",
        " HSV(0.0,1.0,0.4) \n",
        " HSV(0.0,1.0,0.48)\n",
        " HSV(0.0,1.0,0.56)\n",
        " HSV(0.0,1.0,0.64)\n",
        " HSV(0.0,1.0,0.72)\n",
        " HSV(0.0,1.0,0.8) \n",
        " HSV(0.0,1.0,0.88)\n",
        " HSV(0.0,1.0,0.96)"
       ]
      }
     ],
     "prompt_number": 9
    },
    {
     "cell_type": "code",
     "collapsed": false,
     "input": [
      "convert(RGB, HSV(160, 0.8, 0.5))"
     ],
     "language": "python",
     "metadata": {},
     "outputs": [
      {
       "metadata": {},
       "output_type": "pyout",
       "prompt_number": 10,
       "svg": [
        "<?xml version\"1.0\" encoding=\"UTF-8\"?>\n",
        "<!DOCTYPE svg PUBLIC \"-//W3C//DTD SVG 1.1//EN\"\n",
        " \"http://www.w3.org/Graphics/SVG/1.1/DTD/svg11.dtd\">\n",
        "<svg xmlns=\"http://www.w3.org/2000/svg\" version=\"1.1\"\n",
        "     width=\"25mm\" height=\"25mm\" viewBox=\"0 0 1 1\">\n",
        "     <rect width=\"1\" height=\"1\"\n",
        "           fill=\"#19805D\" stroke=\"none\"/>\n",
        "</svg>\n"
       ],
       "text": [
        "RGB(0.09999999999999998,0.5,0.3666666666666666)"
       ]
      }
     ],
     "prompt_number": 10
    },
    {
     "cell_type": "code",
     "collapsed": false,
     "input": [
      "string(_)"
     ],
     "language": "python",
     "metadata": {},
     "outputs": [
      {
       "metadata": {},
       "output_type": "pyout",
       "prompt_number": 11,
       "text": [
        "\"RGB(0.09999999999999998,0.5,0.3666666666666666)\""
       ]
      }
     ],
     "prompt_number": 11
    },
    {
     "cell_type": "code",
     "collapsed": false,
     "input": [
      "# named colors\n",
      "color(\"burlywood\")"
     ],
     "language": "python",
     "metadata": {},
     "outputs": [
      {
       "metadata": {},
       "output_type": "pyout",
       "prompt_number": 15,
       "svg": [
        "<?xml version\"1.0\" encoding=\"UTF-8\"?>\n",
        "<!DOCTYPE svg PUBLIC \"-//W3C//DTD SVG 1.1//EN\"\n",
        " \"http://www.w3.org/Graphics/SVG/1.1/DTD/svg11.dtd\">\n",
        "<svg xmlns=\"http://www.w3.org/2000/svg\" version=\"1.1\"\n",
        "     width=\"25mm\" height=\"25mm\" viewBox=\"0 0 1 1\">\n",
        "     <rect width=\"1\" height=\"1\"\n",
        "           fill=\"#DEB887\" stroke=\"none\"/>\n",
        "</svg>\n"
       ],
       "text": [
        "RGB(0.8705882352941177,0.7215686274509804,0.5294117647058824)"
       ]
      }
     ],
     "prompt_number": 15
    },
    {
     "cell_type": "markdown",
     "metadata": {},
     "source": [
      "## Drawing with Cairo"
     ]
    },
    {
     "cell_type": "code",
     "collapsed": false,
     "input": [
      "using Cairo\n",
      "using Base.Graphics"
     ],
     "language": "python",
     "metadata": {},
     "outputs": [],
     "prompt_number": 12
    },
    {
     "cell_type": "code",
     "collapsed": false,
     "input": [
      "# a convenient utility for setting up Cairo drawings with an initial fill color and coordinate system\n",
      "# the result is a graphics context you can draw to\n",
      "function drawing(w,h; fill=nothing, coords=nothing, left=0, right=w, top=0, bottom=h, surface=CairoRGBSurface(w, h))\n",
      "    gc = creategc(surface)\n",
      "    if coords != nothing\n",
      "        left, right, top, bottom = coords\n",
      "    end\n",
      "    set_coords(gc, 0, 0, w, h, left, right, top, bottom)\n",
      "    if fill != nothing\n",
      "        set_source(gc, fill)\n",
      "        paint(gc)\n",
      "    end\n",
      "    set_source(gc, RGB(0,0,0))\n",
      "    gc\n",
      "end"
     ],
     "language": "python",
     "metadata": {},
     "outputs": [
      {
       "metadata": {},
       "output_type": "pyout",
       "prompt_number": 31,
       "text": [
        "drawing (generic function with 1 method)"
       ]
      }
     ],
     "prompt_number": 31
    },
    {
     "cell_type": "code",
     "collapsed": false,
     "input": [
      "d = drawing(275, 250; fill=color(\"burlywood\"), left=0, right=1, top=1, bottom=0)"
     ],
     "language": "python",
     "metadata": {},
     "outputs": [
      {
       "metadata": {},
       "output_type": "pyout",
       "prompt_number": 32,
       "text": [
        "CairoContext(Ptr{Void} @0x0000000004c89a60,CairoSurface(Ptr{Void} @0x0000000003710610,275.0,250.0,#undef),Ptr{Void} @0x0000000008684990)"
       ]
      }
     ],
     "prompt_number": 32
    },
    {
     "cell_type": "code",
     "collapsed": false,
     "input": [
      "circle(d, 0.5, 0.5, 0.1); stroke(d)"
     ],
     "language": "python",
     "metadata": {},
     "outputs": [],
     "prompt_number": 25
    },
    {
     "cell_type": "code",
     "collapsed": false,
     "input": [
      "d.surface"
     ],
     "language": "python",
     "metadata": {},
     "outputs": [
      {
       "metadata": {},
       "output_type": "pyout",
       "png": "[encoded data removed]",
       "prompt_number": 26,
       "text": [
        "CairoSurface(Ptr{Void} @0x0000000006fd2f70,275.0,250.0,#undef)"
       ]
      }
     ],
     "prompt_number": 26
    },
    {
     "cell_type": "code",
     "collapsed": false,
     "input": [
      "set_source(d, HSV(0, 1, 1))"
     ],
     "language": "python",
     "metadata": {},
     "outputs": [],
     "prompt_number": 27
    },
    {
     "cell_type": "code",
     "collapsed": false,
     "input": [
      "circle(d, 0.5, 0.2, 0.1); fill(d)"
     ],
     "language": "python",
     "metadata": {},
     "outputs": [],
     "prompt_number": 33
    },
    {
     "cell_type": "code",
     "collapsed": false,
     "input": [
      "d.surface"
     ],
     "language": "python",
     "metadata": {},
     "outputs": [
      {
       "metadata": {},
       "output_type": "pyout",
       "png": "[encoded data removed]",
       "prompt_number": 29,
       "text": [
        "CairoSurface(Ptr{Void} @0x0000000006fd2f70,275.0,250.0,#undef)"
       ]
      }
     ],
     "prompt_number": 29
    },
    {
     "cell_type": "code",
     "collapsed": false,
     "input": [
      "write_to_png(d.surface, \"test.png\")"
     ],
     "language": "python",
     "metadata": {},
     "outputs": [],
     "prompt_number": 30
    },
    {
     "cell_type": "code",
     "collapsed": false,
     "input": [
      "function picture(d)\n",
      "  set_source(d, RGB(0,0,0))\n",
      "  circle(d, 0.5, 0.5, 0.1); stroke(d)\n",
      "  set_source(d, HSV(0, 1, 1))\n",
      "  circle(d, 0.5, 0.2, 0.1); fill(d)\n",
      "end"
     ],
     "language": "python",
     "metadata": {},
     "outputs": [
      {
       "metadata": {},
       "output_type": "pyout",
       "prompt_number": 34,
       "text": [
        "picture (generic function with 1 method)"
       ]
      }
     ],
     "prompt_number": 34
    },
    {
     "cell_type": "code",
     "collapsed": false,
     "input": [
      "d = drawing(275, 250; fill=color(\"burlywood\"), left=0, right=1, top=1, bottom=0,\n",
      "            surface=CairoSVGSurface(\"test.svg\", 275, 250))"
     ],
     "language": "python",
     "metadata": {},
     "outputs": [
      {
       "metadata": {},
       "output_type": "pyout",
       "prompt_number": 35,
       "text": [
        "CairoContext(Ptr{Void} @0x0000000006d99660,CairoSurface(Ptr{Void} @0x0000000004855300,275.0,250.0,#undef),Ptr{Void} @0x0000000008684a40)"
       ]
      }
     ],
     "prompt_number": 35
    },
    {
     "cell_type": "code",
     "collapsed": false,
     "input": [
      "picture(d); finish(d.surface)"
     ],
     "language": "python",
     "metadata": {},
     "outputs": [],
     "prompt_number": 36
    },
    {
     "cell_type": "code",
     "collapsed": false,
     "input": [],
     "language": "python",
     "metadata": {},
     "outputs": []
    }
   ],
   "metadata": {}
  }
 ]
}